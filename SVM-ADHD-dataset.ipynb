{
 "cells": [
  {
   "cell_type": "markdown",
   "id": "33443590",
   "metadata": {},
   "source": [
    "# Auditory brainstem response in ADHD childern for calsiffication of ADHD from neuro-typical children"
   ]
  },
  {
   "cell_type": "code",
   "execution_count": 23,
   "id": "805643c2",
   "metadata": {},
   "outputs": [
    {
     "data": {
      "text/html": [
       "<div>\n",
       "<style scoped>\n",
       "    .dataframe tbody tr th:only-of-type {\n",
       "        vertical-align: middle;\n",
       "    }\n",
       "\n",
       "    .dataframe tbody tr th {\n",
       "        vertical-align: top;\n",
       "    }\n",
       "\n",
       "    .dataframe thead th {\n",
       "        text-align: right;\n",
       "    }\n",
       "</style>\n",
       "<table border=\"1\" class=\"dataframe\">\n",
       "  <thead>\n",
       "    <tr style=\"text-align: right;\">\n",
       "      <th></th>\n",
       "      <th>V</th>\n",
       "      <th>A</th>\n",
       "      <th>C</th>\n",
       "      <th>D</th>\n",
       "      <th>E</th>\n",
       "      <th>F</th>\n",
       "      <th>O</th>\n",
       "      <th>class</th>\n",
       "      <th>type</th>\n",
       "    </tr>\n",
       "  </thead>\n",
       "  <tbody>\n",
       "    <tr>\n",
       "      <th>0</th>\n",
       "      <td>6.08</td>\n",
       "      <td>6.85</td>\n",
       "      <td>18.8</td>\n",
       "      <td>24.7</td>\n",
       "      <td>33.1</td>\n",
       "      <td>39.9</td>\n",
       "      <td>45.0</td>\n",
       "      <td>1.0</td>\n",
       "      <td>ADHD</td>\n",
       "    </tr>\n",
       "    <tr>\n",
       "      <th>1</th>\n",
       "      <td>6.57</td>\n",
       "      <td>6.44</td>\n",
       "      <td>18.6</td>\n",
       "      <td>23.5</td>\n",
       "      <td>28.0</td>\n",
       "      <td>37.7</td>\n",
       "      <td>47.0</td>\n",
       "      <td>1.0</td>\n",
       "      <td>ADHD</td>\n",
       "    </tr>\n",
       "    <tr>\n",
       "      <th>2</th>\n",
       "      <td>6.16</td>\n",
       "      <td>6.67</td>\n",
       "      <td>18.2</td>\n",
       "      <td>28.9</td>\n",
       "      <td>31.5</td>\n",
       "      <td>36.6</td>\n",
       "      <td>47.4</td>\n",
       "      <td>1.0</td>\n",
       "      <td>ADHD</td>\n",
       "    </tr>\n",
       "    <tr>\n",
       "      <th>3</th>\n",
       "      <td>6.47</td>\n",
       "      <td>6.86</td>\n",
       "      <td>18.2</td>\n",
       "      <td>22.1</td>\n",
       "      <td>26.2</td>\n",
       "      <td>39.3</td>\n",
       "      <td>48.8</td>\n",
       "      <td>1.0</td>\n",
       "      <td>ADHD</td>\n",
       "    </tr>\n",
       "    <tr>\n",
       "      <th>4</th>\n",
       "      <td>6.03</td>\n",
       "      <td>6.92</td>\n",
       "      <td>18.3</td>\n",
       "      <td>17.5</td>\n",
       "      <td>28.2</td>\n",
       "      <td>40.4</td>\n",
       "      <td>47.4</td>\n",
       "      <td>1.0</td>\n",
       "      <td>ADHD</td>\n",
       "    </tr>\n",
       "  </tbody>\n",
       "</table>\n",
       "</div>"
      ],
      "text/plain": [
       "      V     A     C     D     E     F     O  class  type\n",
       "0  6.08  6.85  18.8  24.7  33.1  39.9  45.0    1.0  ADHD\n",
       "1  6.57  6.44  18.6  23.5  28.0  37.7  47.0    1.0  ADHD\n",
       "2  6.16  6.67  18.2  28.9  31.5  36.6  47.4    1.0  ADHD\n",
       "3  6.47  6.86  18.2  22.1  26.2  39.3  48.8    1.0  ADHD\n",
       "4  6.03  6.92  18.3  17.5  28.2  40.4  47.4    1.0  ADHD"
      ]
     },
     "execution_count": 23,
     "metadata": {},
     "output_type": "execute_result"
    }
   ],
   "source": [
    "import pandas as pd\n",
    "import numpy as np\n",
    "import matplotlib.pyplot as plt\n",
    "\n",
    "data=pd.read_csv('data_ADHD.csv')\n",
    "data.head()\n"
   ]
  },
  {
   "cell_type": "code",
   "execution_count": 24,
   "id": "181597bb",
   "metadata": {},
   "outputs": [],
   "source": [
    "X=data.iloc[:,0:6]\n",
    "Y=data.iloc[:,-2]"
   ]
  },
  {
   "cell_type": "code",
   "execution_count": 25,
   "id": "d7de15f5",
   "metadata": {},
   "outputs": [],
   "source": [
    "from sklearn.model_selection import train_test_split\n",
    "x_train,x_test,y_train,y_test=train_test_split(X,Y,test_size=0.2)"
   ]
  },
  {
   "cell_type": "code",
   "execution_count": 26,
   "id": "f0ba64a3",
   "metadata": {},
   "outputs": [],
   "source": [
    "# feature scaling\n",
    "from sklearn.preprocessing import StandardScaler\n",
    "sc=StandardScaler()\n",
    "x_train=sc.fit_transform(x_train)\n",
    "x_test=sc.fit_transform(x_test)"
   ]
  },
  {
   "cell_type": "markdown",
   "id": "076e2fb5",
   "metadata": {},
   "source": [
    "# Training SVM model on training set"
   ]
  },
  {
   "cell_type": "code",
   "execution_count": 27,
   "id": "5bee5d2b",
   "metadata": {},
   "outputs": [
    {
     "data": {
      "text/plain": [
       "SVC(random_state=0)"
      ]
     },
     "execution_count": 27,
     "metadata": {},
     "output_type": "execute_result"
    }
   ],
   "source": [
    "from sklearn.svm import SVC\n",
    "classifier=SVC(kernel='rbf',random_state=0) # with gausian kernel\n",
    "classifier.fit(x_train,y_train)"
   ]
  },
  {
   "cell_type": "code",
   "execution_count": 28,
   "id": "f9108ed2",
   "metadata": {},
   "outputs": [
    {
     "data": {
      "text/plain": [
       "(14,)"
      ]
     },
     "execution_count": 28,
     "metadata": {},
     "output_type": "execute_result"
    }
   ],
   "source": [
    "y_pred=classifier.predict(x_test)\n",
    "y_pred.shape"
   ]
  },
  {
   "cell_type": "code",
   "execution_count": 29,
   "id": "e7f90338",
   "metadata": {},
   "outputs": [
    {
     "name": "stdout",
     "output_type": "stream",
     "text": [
      "confusion metrix:  [[7 2]\n",
      " [1 4]]\n",
      "              precision    recall  f1-score   support\n",
      "\n",
      "         0.0       0.88      0.78      0.82         9\n",
      "         1.0       0.67      0.80      0.73         5\n",
      "\n",
      "    accuracy                           0.79        14\n",
      "   macro avg       0.77      0.79      0.78        14\n",
      "weighted avg       0.80      0.79      0.79        14\n",
      "\n"
     ]
    },
    {
     "data": {
      "image/png": "[encoded data removed]",
      "text/plain": [
       "<Figure size 432x288 with 1 Axes>"
      ]
     },
     "metadata": {
      "needs_background": "light"
     },
     "output_type": "display_data"
    }
   ],
   "source": [
    "from sklearn.metrics import confusion_matrix, accuracy_score,classification_report\n",
    "from sklearn import metrics\n",
    "cm=confusion_matrix(y_test,y_pred)\n",
    "print('confusion metrix: ',cm)\n",
    "accuracy_score(y_test,y_pred)\n",
    "print(classification_report(y_test,y_pred))\n",
    "\n",
    "metrics.plot_roc_curve(classifier,x_test,y_test)\n",
    "plt.show()\n"
   ]
  },
  {
   "cell_type": "markdown",
   "id": "5abdc86b",
   "metadata": {},
   "source": [
    "# since our dataset is small we can use cross validation methods-lets do 10 fold cross validation"
   ]
  },
  {
   "cell_type": "code",
   "execution_count": 30,
   "id": "55480a99",
   "metadata": {},
   "outputs": [
    {
     "data": {
      "text/plain": [
       "array([0.42857143, 0.57142857, 0.57142857, 0.57142857, 0.57142857,\n",
       "       0.71428571, 0.5       , 0.5       , 0.5       , 0.66666667])"
      ]
     },
     "execution_count": 30,
     "metadata": {},
     "output_type": "execute_result"
    }
   ],
   "source": [
    "from sklearn.model_selection import cross_val_score\n",
    "scores=cross_val_score(classifier, X,Y,cv=10)\n",
    "scores\n"
   ]
  },
  {
   "cell_type": "markdown",
   "id": "1561be67",
   "metadata": {},
   "source": [
    "# The data is more complicated and we need other kernels that can seperate the dataset better.\n",
    "Here we use wavelet kernels. Morlet wavelet kernel:"
   ]
  },
  {
   "cell_type": "code",
   "execution_count": null,
   "id": "71617984",
   "metadata": {},
   "outputs": [],
   "source": []
  }
 ],
 "metadata": {
  "kernelspec": {
   "display_name": "Python 3",
   "language": "python",
   "name": "python3"
  },
  "language_info": {
   "codemirror_mode": {
    "name": "ipython",
    "version": 3
   },
   "file_extension": ".py",
   "mimetype": "text/x-python",
   "name": "python",
   "nbconvert_exporter": "python",
   "pygments_lexer": "ipython3",
   "version": "3.8.8"
  }
 },
 "nbformat": 4,
 "nbformat_minor": 5
}
